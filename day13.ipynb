{
 "cells": [
  {
   "cell_type": "code",
   "execution_count": null,
   "id": "94c8b0ef",
   "metadata": {},
   "outputs": [],
   "source": [
    "#Q1,Q2\n",
    "from datetime import *\n",
    "future_date=input(\"yyyymmdd: \")\n",
    "future_dte=date(int(future_date[4:8]), int(future_date[2:4]),int(future_date[0:2]))\n",
    "dte=date.today()\n",
    "# print(dte)\n",
    "delta_days= abs((future_dte-dte).days)\n",
    "print(delta_days)\n",
    "\n",
    "\n",
    "future_time=input(\"hr:min:sec: \")\n",
    "future_tme=(int(future_time[0:2]), int(future_time[2:4]), int(future_time[4:6]))\n",
    "ft=time(future_tme)\n",
    "tme=datetime.now().time()\n",
    "x = tme.strftime(\"%H:%M:%S\")\n",
    "time_to_go= (x-ft).time"
   ]
  },
  {
   "cell_type": "code",
   "execution_count": null,
   "id": "e457ec63",
   "metadata": {},
   "outputs": [],
   "source": [
    "#Q3 and Q4\n",
    "import pandas as pd\n",
    "df = pd.read_csv(\"D:\\Python\\students.csv\")\n",
    "#print(df['Marks'])\n",
    "avg=sum((df['Marks']))/len((df['Marks']))\n",
    "print(f\" Average marks:{avg}\")\n",
    "input_name=input(\"Enter name to check if it exists: \").lower()\n",
    "print('input_name' in df['Student_name'])"
   ]
  },
  {
   "cell_type": "code",
   "execution_count": null,
   "id": "e9f28248",
   "metadata": {},
   "outputs": [],
   "source": [
    "#Q5\n",
    "import datetime\n",
    "event={\"e1\": '12-10-2022' , \"e2\":'26-09-1995', \"e3\":'23-06-2022'}\n",
    "eve=input(\"Enter date in dd-mm-yyyy: \")\n",
    "eve=eve.split(\"-\")\n",
    "print(eve)\n",
    "dte= datetime.datetime(int(eve[2]), int(eve[1]), int(eve(0))\n",
    "print(dte)\n",
    "# key_list=[]\n",
    "# val_list=[]\n",
    "# for i in event.keys():\n",
    "#     if i==event.keys():\n",
    "#         return True\n",
    "#     else:\n",
    "#         return False"
   ]
  },
  {
   "cell_type": "code",
   "execution_count": null,
   "id": "93500795",
   "metadata": {},
   "outputs": [],
   "source": [
    "#Q6\n",
    "dff=pd.read_csv(\"D:\\Python\\students.csv\")\n",
    "#dff.head()\n",
    "#dff.info()\n",
    "marks_avg=dff[\"Marks\"].mean()\n",
    "marks_mode=dff['Marks'].mode()\n",
    "marks_med=dff[\"Marks\"].median()\n",
    "print(marks_avg)\n",
    "print(marks_mode)\n",
    "print(marks_med)\n",
    "dff.describe()"
   ]
  },
  {
   "cell_type": "code",
   "execution_count": null,
   "id": "e1ea27a0",
   "metadata": {},
   "outputs": [],
   "source": [
    "#Q7 Using the same students.csv\n",
    "df2=dff[\"Student_name\"]\n",
    "#df2.info()\n",
    "df3=list(df2)\n",
    "df3=set(df3)\n",
    "df3=list(df3)\n",
    "#print(df3)\n",
    "# def permutations(df3):\n",
    "#     for i in range(len(df3)):\n",
    "#         m= df3[i]\n",
    "#         rem_list=df3[:i]+df3[i+1:]\n",
    "#         for p in permutations(rem_list):\n",
    "#             df3.append([m]+p)\n",
    "#     return df3\n",
    "# data = list(\"123\")\n",
    "# for p in permutations(data):\n",
    "#     print (p)\n",
    "\n",
    "from itertools import permutations\n",
    "l = list(permutations(df3))\n",
    "print(l)"
   ]
  },
  {
   "cell_type": "code",
   "execution_count": null,
   "id": "bacbf169",
   "metadata": {},
   "outputs": [],
   "source": [
    "#Q8\n",
    "add_to_file=input('what to add to file: ')\n",
    "file=open(\"D:\\Python\\q8.txt\", \"w\")\n",
    "file.write(add_to_file)\n",
    "file.close()\n",
    "file=open(\"D:\\Python\\q8.txt\", 'r')\n",
    "file.read()"
   ]
  },
  {
   "cell_type": "code",
   "execution_count": null,
   "id": "4c85d6c1",
   "metadata": {},
   "outputs": [],
   "source": [
    "#Q9\n",
    "import requests\n",
    "rt=requests.get(input(\"Enter url: \"))\n",
    "\n",
    "file=open(\"D:\\Python\\q9.txt\", \"wb\").write(rt.content)\n",
    "\n",
    "\n",
    "file1 = open(\"D:\\Python\\q9.txt\",\"r+\") \n",
    "print('File content: ', file1.read())"
   ]
  },
  {
   "cell_type": "code",
   "execution_count": null,
   "id": "fa8836e5",
   "metadata": {},
   "outputs": [],
   "source": [
    "#Q10\n",
    "import requests\n",
    "rt=requests.get(input(\"Enter url: \"))\n",
    "\n",
    "file=open(\"D:\\Python\\q9.txt\", \"wb\").write(rt.content)\n",
    "\n",
    "\n",
    "file1 = open(\"D:\\Python\\q9.txt\") \n",
    "\n",
    "lines=[]\n",
    "for line in file1:\n",
    "    lines.append(line.strip())\n",
    "print('There are {} strings in the file'.format(len(line)))\n",
    "\n"
   ]
  },
  {
   "cell_type": "code",
   "execution_count": null,
   "id": "2a01b1b3",
   "metadata": {},
   "outputs": [],
   "source": [
    "#Q11\n",
    "def split(word):\n",
    "    return list(word)\n",
    "\n",
    "word=\"banana\"\n",
    "#print(split(word))\n",
    "\n",
    "weight = []\n",
    "for i in word:\n",
    "    weight.append(ord(i))\n",
    "sum(weight)"
   ]
  },
  {
   "cell_type": "code",
   "execution_count": null,
   "id": "5e58245f",
   "metadata": {},
   "outputs": [],
   "source": [
    "#Q12\n",
    "file2=open(\"D:\\Python\\q9.txt\")\n",
    "line=[]\n",
    "for a in file2:\n",
    "    line.append(a)\n",
    "#print('File Content: ', line)\n",
    "x=0\n",
    "string= input(\"enter the string occurence to be searched: \")\n",
    "for i in range(len(line[0])-len(string)):\n",
    "    if(line[0][i:i+len(string)] == string):\n",
    "        x += 1\n",
    "print('\\\"{}\\\" appears {} times in the file'.format(string,x))"
   ]
  },
  {
   "cell_type": "code",
   "execution_count": null,
   "id": "1132f0b2",
   "metadata": {},
   "outputs": [],
   "source": [
    "#Q13\n",
    "from zipfile import ZipFile\n",
    "with ZipFile(\"D:\\Python\\q9.zip\", 'w') as zipObj2:\n",
    "   # Add multiple files to the zip\n",
    "   zipObj2.write('\"D:\\Python\\q9.zip')"
   ]
  },
  {
   "cell_type": "code",
   "execution_count": 14,
   "id": "3f4c0eca",
   "metadata": {},
   "outputs": [
    {
     "name": "stdout",
     "output_type": "stream",
     "text": [
      "The file does not exist\n"
     ]
    }
   ],
   "source": [
    "#Q14\n",
    "import os\n",
    "if os.path.exists(\"D:\\Python\\q14.txt\"):\n",
    "    os.remove(\"D:\\Python\\q14.txt\")\n",
    "else:\n",
    "    print(\"The file does not exist\")"
   ]
  },
  {
   "cell_type": "code",
   "execution_count": 15,
   "id": "a4363058",
   "metadata": {},
   "outputs": [
    {
     "name": "stdout",
     "output_type": "stream",
     "text": [
      "['D:\\\\Python\\\\day1.py', 'D:\\\\Python\\\\New folder', 'D:\\\\Python\\\\q8.txt', 'D:\\\\Python\\\\q9.txt', 'D:\\\\Python\\\\q9.zip', 'D:\\\\Python\\\\students.csv']\n"
     ]
    }
   ],
   "source": [
    "#Q15\n",
    "import glob\n",
    "print(glob.glob(\"D:\\Python\\*\"))"
   ]
  },
  {
   "cell_type": "code",
   "execution_count": 17,
   "id": "23ef5790",
   "metadata": {},
   "outputs": [
    {
     "name": "stdout",
     "output_type": "stream",
     "text": [
      "Enter binary number: 110110\n",
      "hex representation: 0x1ae1e\n",
      "oct representation:  0o327036\n",
      "binary representation: 110110\n"
     ]
    }
   ],
   "source": [
    "#Q16\n",
    "binary = int(input(\"Enter binary number: \"))\n",
    "print('hex representation:', hex(binary))\n",
    "print('oct representation: ', oct(binary))\n",
    "print('binary representation:', binary)"
   ]
  },
  {
   "cell_type": "code",
   "execution_count": 27,
   "id": "9dc685a5",
   "metadata": {},
   "outputs": [
    {
     "name": "stdout",
     "output_type": "stream",
     "text": [
      "1\n",
      "2\n",
      "fizz\n",
      "4\n",
      "buzz\n",
      "fizz\n",
      "7\n",
      "8\n",
      "fizz\n",
      "buzz\n",
      "11\n",
      "fizz\n",
      "13\n",
      "14\n",
      "fizzbuzz\n",
      "16\n",
      "17\n",
      "fizz\n",
      "19\n",
      "buzz\n",
      "fizz\n",
      "22\n",
      "23\n",
      "fizz\n",
      "buzz\n",
      "26\n",
      "fizz\n",
      "28\n",
      "29\n",
      "fizzbuzz\n",
      "31\n",
      "32\n",
      "fizz\n",
      "34\n",
      "buzz\n",
      "fizz\n",
      "37\n",
      "38\n",
      "fizz\n",
      "buzz\n",
      "41\n",
      "fizz\n",
      "43\n",
      "44\n",
      "fizzbuzz\n",
      "46\n",
      "47\n",
      "fizz\n",
      "49\n",
      "buzz\n",
      "fizz\n",
      "52\n",
      "53\n",
      "fizz\n",
      "buzz\n",
      "56\n",
      "fizz\n",
      "58\n",
      "59\n",
      "fizzbuzz\n",
      "61\n",
      "62\n",
      "fizz\n",
      "64\n",
      "buzz\n",
      "fizz\n",
      "67\n",
      "68\n",
      "fizz\n",
      "buzz\n",
      "71\n",
      "fizz\n",
      "73\n",
      "74\n",
      "fizzbuzz\n",
      "76\n",
      "77\n",
      "fizz\n",
      "79\n",
      "buzz\n",
      "fizz\n",
      "82\n",
      "83\n",
      "fizz\n",
      "buzz\n",
      "86\n",
      "fizz\n",
      "88\n",
      "89\n",
      "fizzbuzz\n",
      "91\n",
      "92\n",
      "fizz\n",
      "94\n",
      "buzz\n",
      "fizz\n",
      "97\n",
      "98\n",
      "fizz\n",
      "buzz\n"
     ]
    }
   ],
   "source": [
    "#Q17\n",
    "for i in range(1,101,):\n",
    "    if i%15==0:\n",
    "        print(\"fizzbuzz\")\n",
    "    elif i%3==0:\n",
    "        print(\"fizz\")\n",
    "    elif i%5==0:\n",
    "        print(\"buzz\")\n",
    "    else:\n",
    "        print(i)"
   ]
  },
  {
   "cell_type": "code",
   "execution_count": 43,
   "id": "d95381b9",
   "metadata": {},
   "outputs": [
    {
     "data": {
      "text/plain": [
       "'Black'"
      ]
     },
     "execution_count": 43,
     "metadata": {},
     "output_type": "execute_result"
    }
   ],
   "source": [
    "#Q20\n",
    "class Car:\n",
    "    def __init__(self, company, model, gear, CC, color, has_abs):\n",
    "        self.company = company\n",
    "        self.model = model\n",
    "        self.gear = gear\n",
    "        self.CC = CC\n",
    "        self.color = color\n",
    "        self.has_abs = has_abs\n",
    "        \n",
    "    def know_color(self):\n",
    "        return self.color\n",
    "    \n",
    "    \n",
    "BMW = Car('BMW','X34','No','2000', 'Black', True)\n",
    "BMW.know_color()"
   ]
  },
  {
   "cell_type": "code",
   "execution_count": null,
   "id": "ff1bd9e4",
   "metadata": {},
   "outputs": [],
   "source": []
  }
 ],
 "metadata": {
  "kernelspec": {
   "display_name": "Python 3 (ipykernel)",
   "language": "python",
   "name": "python3"
  },
  "language_info": {
   "codemirror_mode": {
    "name": "ipython",
    "version": 3
   },
   "file_extension": ".py",
   "mimetype": "text/x-python",
   "name": "python",
   "nbconvert_exporter": "python",
   "pygments_lexer": "ipython3",
   "version": "3.9.12"
  }
 },
 "nbformat": 4,
 "nbformat_minor": 5
}
